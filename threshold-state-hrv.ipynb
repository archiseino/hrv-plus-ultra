{
 "cells": [
  {
   "cell_type": "markdown",
   "id": "a70c0588",
   "metadata": {},
   "source": [
    "### Threshold Definition on Detecting the Stress / Rest State\n",
    "\n",
    "This will focused on getting the How much the metrics drops from the Rest / Stress state for classifying the stress state"
   ]
  },
  {
   "cell_type": "code",
   "execution_count": 1,
   "id": "620d16fa",
   "metadata": {},
   "outputs": [],
   "source": [
    "## Importing Dependencies\n",
    "import pandas as pd\n",
    "import numpy as np\n",
    "import matplotlib.pyplot as plt\n",
    "import seaborn as sns\n",
    "import os"
   ]
  },
  {
   "cell_type": "code",
   "execution_count": 2,
   "id": "489831f7",
   "metadata": {},
   "outputs": [
    {
     "data": {
      "text/plain": [
       "(  Subject    RPPG PR      GT PR  RPPG MeanNN   GT MeanNN   RPPG SDNN  \\\n",
       " 0     s41  81.428530  98.034000   833.962264  617.429124  349.010749   \n",
       " 1     s43  68.577569  95.964203  1136.221198  629.002193  718.465097   \n",
       " 2     s44  67.257494  68.605187  1023.481117  920.673077  372.471869   \n",
       " 3     s45  55.846749  82.655874  1451.948052  758.109177  927.831207   \n",
       " 4     s47  83.297722  78.326567   761.050061  775.229978  170.774595   \n",
       " \n",
       "       GT SDNN   RPPG RMSSD    GT RMSSD  RPPG pNN50   GT pNN50   RPPG LF  \\\n",
       " 0   57.246034   489.743928   70.602253   82.075472  17.525773  0.035133   \n",
       " 1   47.821843   951.342043   67.346224   89.677419   7.368421  0.052770   \n",
       " 2  183.537949   506.892449  194.124933   91.954023  68.205128  0.054312   \n",
       " 3  151.220580  1236.128474  229.898547   90.909091  64.556962  0.037576   \n",
       " 4   81.676803   232.258732   99.105416   75.213675  25.541126  0.052507   \n",
       " \n",
       "       GT LF   RPPG HF     GT HF  RPPG LF/HF  GT LF/HF  \n",
       " 0  0.026856  0.092660  0.019194    0.379165  1.399166  \n",
       " 1  0.019261  0.059092  0.079998    0.893019  0.240772  \n",
       " 2  0.005668  0.074827  0.013916    0.725829  0.407288  \n",
       " 3  0.017040  0.028754  0.065650    1.306796  0.259558  \n",
       " 4  0.030871  0.076821  0.021888    0.683493  1.410395  ,\n",
       "   Subject    RPPG PR       GT PR  RPPG MeanNN   GT MeanNN   RPPG SDNN  \\\n",
       " 0     s41  88.203476   97.305024   766.422466  655.280566  283.410802   \n",
       " 1     s43  78.362414   93.701270   875.910364  675.634398  330.032126   \n",
       " 2     s44  67.735686   80.547621  1012.807882  811.085973  381.196805   \n",
       " 3     s45  64.158790   87.838875  1164.332400  712.487599  645.851681   \n",
       " 4     s47  91.089652  101.929789   712.484994  631.216989  223.836234   \n",
       " \n",
       "       GT SDNN  RPPG RMSSD    GT RMSSD  RPPG pNN50   GT pNN50   RPPG LF  \\\n",
       " 0  176.700658  406.753016  248.759226   86.324786  74.087591  0.025132   \n",
       " 1  162.182772  439.878978  255.849895   90.196078  82.706767  0.026486   \n",
       " 2  218.796135  490.542862  270.339594   90.804598  77.375566  0.054936   \n",
       " 3  142.989745  940.838577  216.573729   91.503268  76.190476  0.051381   \n",
       " 4  174.359252  318.563684  239.094128   81.092437  78.169014  0.021912   \n",
       " \n",
       "       GT LF   RPPG HF     GT HF  RPPG LF/HF  GT LF/HF  \n",
       " 0  0.031778  0.098214  0.089973    0.255891  0.353194  \n",
       " 1  0.025705  0.077730  0.075904    0.340740  0.338655  \n",
       " 2  0.035256  0.063181  0.031797    0.869502  1.108794  \n",
       " 3  0.041889  0.032130  0.090352    1.599177  0.463622  \n",
       " 4  0.039676  0.084076  0.058807    0.260626  0.674685  )"
      ]
     },
     "execution_count": 2,
     "metadata": {},
     "output_type": "execute_result"
    }
   ],
   "source": [
    "## Define the path\n",
    "scipy_rest = os.path.join(\"Findpeaks_Scipy-Rest-HRV_Metrics.csv\")\n",
    "scipy_stress = os.path.join(\"Findpeaks_Scipy-Stress-HRV_Metrics.csv\")\n",
    "\n",
    "## Define the cherry pick for scipy\n",
    "cherry_scipy_rest = os.path.join(\"Cherry-Findpeaks_Scipy-Rest-HRV_Metrics.csv\")\n",
    "cherry_scipy_stress = os.path.join(\"Cherry-Findpeaks_Scipy-Stress-HRV_Metrics.csv\")\n",
    "\n",
    "## Define the path for Elgendi\n",
    "elgendi_rest = os.path.join(\"Elgendi-Rest-HRV-Metrics.csv\")\n",
    "elgendi_stress = os.path.join(\"Elgendi-Stress-HRV-Metrics.csv\")\n",
    "\n",
    "## Define the cherry pick for Elgendi\n",
    "cherry_elgendi_rest = os.path.join(\"Cherry-Elgendi-Rest-HRV-Metrics.csv\")\n",
    "cherry_elgendi_stress = os.path.join(\"Cherry-Elgendi-Stress-HRV-Metrics.csv\")\n",
    "\n",
    "## Record rppg Subject\n",
    "record_rest = os.path.join(\"hrv_metrics_subject1-rest.csv\")\n",
    "record_stress = os.path.join(\"hrv_metrics_subject1-stress.csv\")\n",
    "\n",
    "## Read the CSV files\n",
    "df_scipy_rest = pd.read_csv(cherry_scipy_rest)\n",
    "df_scipy_stress = pd.read_csv(cherry_scipy_stress)\n",
    "\n",
    "df_scipy_rest.head(),df_scipy_stress.head()"
   ]
  },
  {
   "cell_type": "code",
   "execution_count": 3,
   "id": "f13a6665",
   "metadata": {},
   "outputs": [
    {
     "name": "stdout",
     "output_type": "stream",
     "text": [
      "Metric: RPPG PR, Rest: 81.42853039612433, Stress: 88.20347584923897, Drop: -8.320112643758458%\n",
      "Metric: RPPG MeanNN, Rest: 833.9622641509434, Stress: 766.4224664224664, Drop: 8.098663528527782%\n",
      "Metric: RPPG SDNN, Rest: 349.010749213818, Stress: 283.41080173694826, Drop: 18.79596763842954%\n",
      "Metric: RPPG RMSSD, Rest: 489.7439279883425, Stress: 406.75301611213376, Drop: 16.94577658514312%\n",
      "Metric: RPPG pNN50, Rest: 82.0754716981132, Stress: 86.32478632478633, Drop: -5.17732586698105%\n",
      "Metric: RPPG LF, Rest: 0.0351333948065703, Stress: 0.0251320733843029, Drop: 28.466709457854762%\n",
      "Metric: RPPG HF, Rest: 0.0926599090801163, Stress: 0.0982141413131554, Drop: -5.994212910609218%\n",
      "Metric: RPPG LF/HF, Rest: 0.3791650041032635, Stress: 0.2558905779583144, Drop: 32.51207912409975%\n"
     ]
    }
   ],
   "source": [
    "## Drop the ground truth columns\n",
    "# Assuming the ground truth columns are prefixed with \"GT\"\n",
    "gt_columns = [\"GT PR\", \"GT MeanNN\", \"GT SDNN\", \"GT RMSSD\", \"GT pNN50\", \"GT LF\", \"GT HF\", \"GT LF/HF\"]\n",
    "\n",
    "df_scipy_rest = df_scipy_rest.drop(columns=gt_columns, errors='ignore')\n",
    "df_scipy_stress = df_scipy_stress.drop(columns=gt_columns, errors='ignore')\n",
    "\n",
    "hrv_metrics = [col for col in df_scipy_rest.columns if col not in ['Subject']]\n",
    "\n",
    "hrv_merged = pd.merge(df_scipy_rest, df_scipy_stress, on='Subject', suffixes=('_rest', '_stress'))\n",
    "hrv_merged.head()\n",
    "\n",
    "metrics_summary = []\n",
    "\n",
    "# Metrics summary\n",
    "for metric in hrv_metrics:\n",
    "    rest_col = f\"{metric}_rest\"\n",
    "    stress_col = f\"{metric}_stress\"\n",
    "    \n",
    "    rest_vals = hrv_merged[rest_col][0]\n",
    "    stress_vals = hrv_merged[stress_col][0]\n",
    "\n",
    "    # Compute drop percentage\n",
    "    drop = ((rest_vals - stress_vals) / rest_vals) * 100\n",
    "    print(f\"Metric: {metric}, Rest: {rest_vals}, Stress: {stress_vals}, Drop: {drop.mean()}%\")\n",
    "\n",
    "#     ## Keep only the subjects where the rest > stress (to match the condition)\n",
    "#     valid_mask = rest_vals > stress_vals\n",
    "#     filtered_drop = drop[valid_mask]\n",
    "\n",
    "#     metrics_summary.append({\n",
    "#         \"Metric\": metric,\n",
    "#         \"Subjects_Matched\": valid_mask.sum(),\n",
    "#         \"Mean_Drop_%\": filtered_drop.mean(),\n",
    "#         \"Median_Drop_%\": filtered_drop.median(),\n",
    "#         \"Min_Drop_%\": filtered_drop.min(),\n",
    "#         \"Max_Drop_%\": filtered_drop.max()\n",
    "#     })\n",
    "\n",
    "# # Create a DataFrame with the results\n",
    "# metrics_summary_df = pd.DataFrame(metrics_summary).sort_values(by=\"Mean_Drop_%\", ascending=True)\n",
    "# metrics_summary_df.reset_index(drop=True, inplace=True)\n",
    "\n",
    "# metrics_summary_df.head(20)\n",
    "\n"
   ]
  },
  {
   "cell_type": "markdown",
   "id": "aea61794",
   "metadata": {},
   "source": [
    "### Conclussion\n",
    "\n",
    "Let's settle on the Drop PR rate for rest / stress state is the 8% difference drop from baseline to the stressor.\n",
    "\n",
    "The formula is going to be like this\n",
    "$$\n",
    "\\text{PR}_{stress} = \\text{PR}_{stress} \\times (1 + \\frac{\\Delta \\%}{100})\n",
    "$$\n",
    "\n",
    "### Example\n",
    "- PR<sub>rest</sub> = 75 BPM\n",
    "- Δ% = −9.71% (i.e., PR increases under stress by 9.71%)\n",
    "\n",
    "Then, takes a minimum sample later (2 mins), calculate the diff does the value has been greater / equal to the minimum:\n",
    "$$\n",
    "\\text{PR}_{stress} = 75 \\times (1 + \\frac{9.71 \\%}{100}) = 75 \\times 1.0971 = 82.28 \\text{ BPM}\n",
    "$$\n",
    "\n",
    "\n"
   ]
  },
  {
   "cell_type": "markdown",
   "id": "4662a103",
   "metadata": {},
   "source": [
    "### How about ofr multiple metrics?\n",
    "\n",
    "Define the rule like\n",
    "```python\n",
    "stress_detected = (\n",
    "    ((current_PR - rest_PR) / rest_PR) >= 0.0971 or\n",
    "    ((rest_RMSSD - current_RMSSD) / rest_RMSSD) >= 0.20 or\n",
    "    ((current_LF_HF - rest_LF_HF) / rest_LF_HF) >= 1.0\n",
    ")\n",
    "```\n",
    "\n",
    "Or convert into normalized_score, for computing overall index\n",
    "\n",
    "```python\n",
    "stress_score = (\n",
    "    z_score((current_PR - rest_PR) / rest_PR) +\n",
    "    z_score((rest_RMSSD - current_RMSSD) / rest_RMSSD) +\n",
    "    z_score((rest_SDNN - current_SDNN) / rest_SDNN)\n",
    ")\n",
    "\n",
    "stress_detected = stress_score > threshold\n",
    "```\n"
   ]
  }
 ],
 "metadata": {
  "kernelspec": {
   "display_name": "phyrexian",
   "language": "python",
   "name": "python3"
  },
  "language_info": {
   "codemirror_mode": {
    "name": "ipython",
    "version": 3
   },
   "file_extension": ".py",
   "mimetype": "text/x-python",
   "name": "python",
   "nbconvert_exporter": "python",
   "pygments_lexer": "ipython3",
   "version": "3.11.12"
  }
 },
 "nbformat": 4,
 "nbformat_minor": 5
}
